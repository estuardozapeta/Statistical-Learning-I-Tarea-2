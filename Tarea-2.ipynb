{
 "cells": [
  {
   "cell_type": "markdown",
   "metadata": {},
   "source": [
    "## **Tarea 2** - Tensorflow: Gradient Descent y Tensorboard"
   ]
  },
  {
   "cell_type": "markdown",
   "metadata": {},
   "source": [
    "#### Librerias a utilizar"
   ]
  },
  {
   "cell_type": "code",
   "execution_count": 157,
   "metadata": {},
   "outputs": [],
   "source": [
    "import tensorflow as tf\n",
    "import numpy as np \n",
    "import matplotlib.pyplot as plt\n",
    "from datetime import datetime"
   ]
  },
  {
   "cell_type": "code",
   "execution_count": 175,
   "metadata": {},
   "outputs": [],
   "source": [
    "if tf.__version__.startswith(\"2.\"):\n",
    "  import tensorflow.compat.v1 as tf\n",
    "  tf.compat.v1.disable_v2_behavior()\n",
    "  tf.compat.v1.disable_eager_execution()"
   ]
  },
  {
   "cell_type": "markdown",
   "metadata": {},
   "source": [
    "#### Carga de Datos"
   ]
  },
  {
   "cell_type": "code",
   "execution_count": 114,
   "metadata": {},
   "outputs": [],
   "source": [
    "array = np.load('training_data.npy')"
   ]
  },
  {
   "cell_type": "markdown",
   "metadata": {},
   "source": [
    "#### Definición de la Clase ***Linear_regression***"
   ]
  },
  {
   "cell_type": "code",
   "execution_count": 181,
   "metadata": {},
   "outputs": [],
   "source": [
    "class Linear_regression:\n",
    "    \n",
    "    def __init__(self):\n",
    "        tf.reset_default_graph()\n",
    "        self.parameters_vector = tf.get_variable(\"parameters\", dtype=tf.float32, shape=[2,1], initializer=tf.zeros_initializer())\n",
    "        \n",
    "    def cost(self, y_train, y_predict):\n",
    "        with tf.name_scope(\"cost\"):\n",
    "            return 1/2*tf.reduce_mean(tf.math.square(y_train - y_predict))\n",
    "    \n",
    "    def predict(self, x):\n",
    "        with tf.name_scope(\"predict\"):\n",
    "            ones = tf.cast(tf.ones_like(x), tf.float32)\n",
    "            return tf.matmul(tf.stack((x,ones), axis=-1), self.parameters_vector)\n",
    "    \n",
    "    def gradient(self, error_cost, y_train, y_predict):\n",
    "        return tf.gradients(error_cost, self.parameters_vector)\n",
    "    \n",
    "    def update_parameters(self, error_cost, y_train, y_predict, learning_rate):\n",
    "        with tf.name_scope(\"gradient\"):\n",
    "            gradient_vector = self.gradient(error_cost, y_train, y_predict)\n",
    "        with tf.name_scope(\"update_params\"):\n",
    "            return tf.assign(self.parameters_vector, self.parameters_vector - learning_rate*gradient_vector[0])"
   ]
  },
  {
   "cell_type": "markdown",
   "metadata": {},
   "source": [
    "#### Definición de la Clase ***Linear_model***"
   ]
  },
  {
   "cell_type": "code",
   "execution_count": 179,
   "metadata": {},
   "outputs": [],
   "source": [
    "class Linear_model:\n",
    "    \n",
    "    def __init__(self, array):\n",
    "        self.tamano_data_set = len(array)\n",
    "        self.y = array[:,0]/1000\n",
    "        self.x = array[:,1]        \n",
    "\n",
    "    def training(self, learning_rate, steps):\n",
    "        plt.scatter(x,y)\n",
    "        lr = Linear_regression()\n",
    "        x_train = tf.placeholder(tf.float32,[self.tamano_data_set],\"x_train\")\n",
    "        y_train = tf.placeholder(tf.float32,[self.tamano_data_set],\"y_train\")\n",
    "\n",
    "        y_predict = lr.predict(x)\n",
    "        error = lr.cost(y_train, y_predict)\n",
    "        error_summary = tf.summary.scalar(name=\"errors\",tensor=error)\n",
    "        update_parameters_vector = lr.update_parameters(error, y_train, y_predict, learning_rate)\n",
    "\n",
    "        with tf.train.MonitoredSession() as session:\n",
    "            feed_dict = {x_train:x, y_train:y}\n",
    "            writer = tf.summary.FileWriter(\"./graphs/\"+datetime.now().strftime(\"%Y%m%d_%H%M%S\")+\"_lr=\"+str(learning_rate), session.graph)\n",
    "\n",
    "            for step in range(steps):\n",
    "                e_summary = session.run(error_summary, feed_dict=feed_dict)\n",
    "                session.run(update_parameters_vector,feed_dict=feed_dict)\n",
    "                prediction = session.run(y_predict,feed_dict=feed_dict)\n",
    "                writer.add_summary(e_summary, step)\n",
    "                plt.plot(x,prediction,label=str(step))\n",
    "            writer.close()\n",
    "\n",
    "        plt.legend()\n",
    "        plt.show()"
   ]
  },
  {
   "cell_type": "markdown",
   "metadata": {},
   "source": [
    "#### Grafo del Modelo"
   ]
  },
  {
   "cell_type": "markdown",
   "metadata": {},
   "source": [
    "#### Objeto de la clase ***Linear_model***"
   ]
  },
  {
   "cell_type": "code",
   "execution_count": 180,
   "metadata": {},
   "outputs": [],
   "source": [
    "lm = Linear_model(array)"
   ]
  },
  {
   "cell_type": "code",
   "execution_count": null,
   "metadata": {},
   "outputs": [],
   "source": [
    "lm.training(0.0078, 15)"
   ]
  }
 ],
 "metadata": {
  "kernelspec": {
   "display_name": "Python 3",
   "language": "python",
   "name": "python3"
  },
  "language_info": {
   "codemirror_mode": {
    "name": "ipython",
    "version": 3
   },
   "file_extension": ".py",
   "mimetype": "text/x-python",
   "name": "python",
   "nbconvert_exporter": "python",
   "pygments_lexer": "ipython3",
   "version": "3.7.4"
  }
 },
 "nbformat": 4,
 "nbformat_minor": 4
}
